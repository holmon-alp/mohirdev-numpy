{
  "cells": [
    {
      "cell_type": "markdown",
      "metadata": {
        "id": "view-in-github",
        "colab_type": "text"
      },
      "source": [
        "<a href=\"https://colab.research.google.com/github/holmon-alp/mohirdev-numpy/blob/main/mohirdev_NumPy_holmon.ipynb\" target=\"_parent\"><img src=\"https://colab.research.google.com/assets/colab-badge.svg\" alt=\"Open In Colab\"/></a>"
      ]
    },
    {
      "cell_type": "markdown",
      "id": "bf79c78b",
      "metadata": {
        "id": "bf79c78b"
      },
      "source": [
        "# NumPy kutubxonasiga doir bilimlaringizni mustaxkamlash uchun mashqlar\n",
        "\n",
        "Hurmatli o'quvchi, bilimingizni yanada mustaxkamlashingiz va chuqurroq ko'nikmalarga ega bo'lishingiz uchun sizga topshiriqlar tayyorladik. Sizga yengillik yaratish maqsadida topshiriqni aynan qanday funksiyalar yordamida amalga oshirishingiz mumkin ekanini\n",
        " `💡Ishora` ko'rinishida yozdik!"
      ]
    },
    {
      "cell_type": "markdown",
      "id": "017db353",
      "metadata": {
        "id": "017db353"
      },
      "source": [
        "#### 1. NumPy kutubxonasini `np` nomi ostida yuklang va numpy kutubxonasini chop eting.\n",
        "\n",
        "versiya va konfiguratsiyani tekshiring.\n"
      ]
    },
    {
      "cell_type": "markdown",
      "source": [
        "`💡Ishora` import … as` and `np.__version__, np.show_config"
      ],
      "metadata": {
        "id": "e28779fe"
      },
      "id": "e28779fe"
    },
    {
      "cell_type": "code",
      "source": [
        "import numpy as np\n",
        "print(\n",
        "    np.version,\n",
        "    np.show_config()\n",
        ")"
      ],
      "metadata": {
        "id": "_pCbn1ieI3u9",
        "colab": {
          "base_uri": "https://localhost:8080/"
        },
        "outputId": "c415bab7-fe1c-4e7d-bc60-2685751f03da"
      },
      "id": "_pCbn1ieI3u9",
      "execution_count": 2,
      "outputs": [
        {
          "output_type": "stream",
          "name": "stdout",
          "text": [
            "openblas64__info:\n",
            "    libraries = ['openblas64_', 'openblas64_']\n",
            "    library_dirs = ['/usr/local/lib']\n",
            "    language = c\n",
            "    define_macros = [('HAVE_CBLAS', None), ('BLAS_SYMBOL_SUFFIX', '64_'), ('HAVE_BLAS_ILP64', None)]\n",
            "    runtime_library_dirs = ['/usr/local/lib']\n",
            "blas_ilp64_opt_info:\n",
            "    libraries = ['openblas64_', 'openblas64_']\n",
            "    library_dirs = ['/usr/local/lib']\n",
            "    language = c\n",
            "    define_macros = [('HAVE_CBLAS', None), ('BLAS_SYMBOL_SUFFIX', '64_'), ('HAVE_BLAS_ILP64', None)]\n",
            "    runtime_library_dirs = ['/usr/local/lib']\n",
            "openblas64__lapack_info:\n",
            "    libraries = ['openblas64_', 'openblas64_']\n",
            "    library_dirs = ['/usr/local/lib']\n",
            "    language = c\n",
            "    define_macros = [('HAVE_CBLAS', None), ('BLAS_SYMBOL_SUFFIX', '64_'), ('HAVE_BLAS_ILP64', None), ('HAVE_LAPACKE', None)]\n",
            "    runtime_library_dirs = ['/usr/local/lib']\n",
            "lapack_ilp64_opt_info:\n",
            "    libraries = ['openblas64_', 'openblas64_']\n",
            "    library_dirs = ['/usr/local/lib']\n",
            "    language = c\n",
            "    define_macros = [('HAVE_CBLAS', None), ('BLAS_SYMBOL_SUFFIX', '64_'), ('HAVE_BLAS_ILP64', None), ('HAVE_LAPACKE', None)]\n",
            "    runtime_library_dirs = ['/usr/local/lib']\n",
            "Supported SIMD extensions in this NumPy install:\n",
            "    baseline = SSE,SSE2,SSE3\n",
            "    found = SSSE3,SSE41,POPCNT,SSE42,AVX,F16C,FMA3,AVX2\n",
            "    not found = AVX512F,AVX512CD,AVX512_KNL,AVX512_KNM,AVX512_SKX,AVX512_CLX,AVX512_CNL,AVX512_ICL\n",
            "<module 'numpy.version' from '/usr/local/lib/python3.10/dist-packages/numpy/version.py'> None\n"
          ]
        }
      ]
    },
    {
      "cell_type": "markdown",
      "id": "46950f4f",
      "metadata": {
        "id": "46950f4f"
      },
      "source": [
        "#### 2. Raqamli qiymatlar ro'yxatini bir o'lchovli NumPy massiviga aylantiring!"
      ]
    },
    {
      "cell_type": "markdown",
      "source": [
        "`💡Ishora` numpy.array"
      ],
      "metadata": {
        "id": "9b0e875f"
      },
      "id": "9b0e875f"
    },
    {
      "cell_type": "code",
      "source": [
        "arr = np.array([1,2,3,4,5,6,7])\n",
        "arr"
      ],
      "metadata": {
        "id": "dgnzjeT3JCi4",
        "colab": {
          "base_uri": "https://localhost:8080/"
        },
        "outputId": "ceed8d15-2ec0-4bb1-fcb2-7af7104c7834"
      },
      "id": "dgnzjeT3JCi4",
      "execution_count": 2,
      "outputs": [
        {
          "output_type": "execute_result",
          "data": {
            "text/plain": [
              "array([1, 2, 3, 4, 5, 6, 7])"
            ]
          },
          "metadata": {},
          "execution_count": 2
        }
      ]
    },
    {
      "cell_type": "markdown",
      "id": "e3c20b3d",
      "metadata": {
        "id": "e3c20b3d"
      },
      "source": [
        "#### 3. Qiymatlari noldan iborat bo'lgan to'qqiz o'lchovli massiv yarating.\n",
        "\n"
      ]
    },
    {
      "cell_type": "markdown",
      "source": [
        "`💡Ishora` np.zeros"
      ],
      "metadata": {
        "id": "96d0b63e"
      },
      "id": "96d0b63e"
    },
    {
      "cell_type": "code",
      "source": [
        "zeros = np.zeros(9)\n",
        "zeros # agar 9D arrayni nazarda tutgan bo'lsangiz xotiraga sig'madi"
      ],
      "metadata": {
        "colab": {
          "base_uri": "https://localhost:8080/"
        },
        "id": "sahsEIec5Y15",
        "outputId": "a978bb0a-debc-47fd-b5a9-b39ff798f6c5"
      },
      "id": "sahsEIec5Y15",
      "execution_count": 3,
      "outputs": [
        {
          "output_type": "execute_result",
          "data": {
            "text/plain": [
              "array([0., 0., 0., 0., 0., 0., 0., 0., 0.])"
            ]
          },
          "metadata": {},
          "execution_count": 3
        }
      ]
    },
    {
      "cell_type": "markdown",
      "id": "b15a879f",
      "metadata": {
        "id": "b15a879f"
      },
      "source": [
        "#### 4. Massiv yarating va uning xotira hajmini toping.\n",
        "\n"
      ]
    },
    {
      "cell_type": "markdown",
      "source": [
        "`💡Ishora` size, itemsize"
      ],
      "metadata": {
        "id": "32f9025c"
      },
      "id": "32f9025c"
    },
    {
      "cell_type": "code",
      "source": [
        "arr = np.arange(1, 11)\n",
        "memory_size = arr.size * arr.itemsize\n",
        "memory_size"
      ],
      "metadata": {
        "id": "MZxcJM_oJOTs",
        "colab": {
          "base_uri": "https://localhost:8080/"
        },
        "outputId": "4373bb99-cc77-4b8a-c3bd-288f0e63c348"
      },
      "id": "MZxcJM_oJOTs",
      "execution_count": 4,
      "outputs": [
        {
          "output_type": "execute_result",
          "data": {
            "text/plain": [
              "80"
            ]
          },
          "metadata": {},
          "execution_count": 4
        }
      ]
    },
    {
      "cell_type": "markdown",
      "id": "0a708990",
      "metadata": {
        "id": "0a708990"
      },
      "source": [
        "#### 5. NumPy kutubxonasidagi add funksiyasi hujjatlarini buyruq satridan qanday olishi mumkin?\n"
      ]
    },
    {
      "cell_type": "markdown",
      "source": [
        "`💡Ishora` np.info"
      ],
      "metadata": {
        "id": "d254eea5"
      },
      "id": "d254eea5"
    },
    {
      "cell_type": "code",
      "source": [
        "np.info('add')"
      ],
      "metadata": {
        "id": "m7nA_vYsJVUi",
        "colab": {
          "base_uri": "https://localhost:8080/"
        },
        "outputId": "2810e076-be94-4374-d97f-152e8a053029"
      },
      "id": "m7nA_vYsJVUi",
      "execution_count": 5,
      "outputs": [
        {
          "output_type": "stream",
          "name": "stdout",
          "text": [
            "     *** Found in numpy ***\n",
            "add(x1, x2, /, out=None, *, where=True, casting='same_kind', order='K', dtype=None, subok=True[, signature, extobj])\n",
            "\n",
            "Add arguments element-wise.\n",
            "\n",
            "Parameters\n",
            "----------\n",
            "x1, x2 : array_like\n",
            "    The arrays to be added.\n",
            "    If ``x1.shape != x2.shape``, they must be broadcastable to a common\n",
            "    shape (which becomes the shape of the output).\n",
            "out : ndarray, None, or tuple of ndarray and None, optional\n",
            "    A location into which the result is stored. If provided, it must have\n",
            "    a shape that the inputs broadcast to. If not provided or None,\n",
            "    a freshly-allocated array is returned. A tuple (possible only as a\n",
            "    keyword argument) must have length equal to the number of outputs.\n",
            "where : array_like, optional\n",
            "    This condition is broadcast over the input. At locations where the\n",
            "    condition is True, the `out` array will be set to the ufunc result.\n",
            "    Elsewhere, the `out` array will retain its original value.\n",
            "    Note that if an uninitialized `out` array is created via the default\n",
            "    ``out=None``, locations within it where the condition is False will\n",
            "    remain uninitialized.\n",
            "**kwargs\n",
            "    For other keyword-only arguments, see the\n",
            "    :ref:`ufunc docs <ufuncs.kwargs>`.\n",
            "\n",
            "Returns\n",
            "-------\n",
            "add : ndarray or scalar\n",
            "    The sum of `x1` and `x2`, element-wise.\n",
            "    This is a scalar if both `x1` and `x2` are scalars.\n",
            "\n",
            "Notes\n",
            "-----\n",
            "Equivalent to `x1` + `x2` in terms of array broadcasting.\n",
            "\n",
            "Examples\n",
            "--------\n",
            ">>> np.add(1.0, 4.0)\n",
            "5.0\n",
            ">>> x1 = np.arange(9.0).reshape((3, 3))\n",
            ">>> x2 = np.arange(3.0)\n",
            ">>> np.add(x1, x2)\n",
            "array([[  0.,   2.,   4.],\n",
            "       [  3.,   5.,   7.],\n",
            "       [  6.,   8.,  10.]])\n",
            "\n",
            "The ``+`` operator can be used as a shorthand for ``np.add`` on ndarrays.\n",
            "\n",
            ">>> x1 = np.arange(9.0).reshape((3, 3))\n",
            ">>> x2 = np.arange(3.0)\n",
            ">>> x1 + x2\n",
            "array([[ 0.,  2.,  4.],\n",
            "       [ 3.,  5.,  7.],\n",
            "       [ 6.,  8., 10.]])\n",
            "----------------------------------------------------------------------------\n",
            "\n",
            "     *** Repeat reference found in numpy.core *** \n",
            "     *** Found in numpy.core.defchararray ***\n",
            " add(x1, x2)\n",
            "\n",
            "Return element-wise string concatenation for two arrays of str or unicode.\n",
            "\n",
            "Arrays `x1` and `x2` must have the same shape.\n",
            "\n",
            "Parameters\n",
            "----------\n",
            "x1 : array_like of str or unicode\n",
            "    Input array.\n",
            "x2 : array_like of str or unicode\n",
            "    Input array.\n",
            "\n",
            "Returns\n",
            "-------\n",
            "add : ndarray\n",
            "    Output array of `string_` or `unicode_`, depending on input types\n",
            "    of the same shape as `x1` and `x2`.\n",
            "----------------------------------------------------------------------------\n",
            "     *** Found in numpy.ma ***\n",
            "add(x1, x2, /, out=None, *, where=True, casting='same_kind', order='K', dtype=None, subok=True[, signature, extobj])\n",
            "\n",
            "Add arguments element-wise.\n",
            "\n",
            "Parameters\n",
            "----------\n",
            "x1, x2 : array_like\n",
            "    The arrays to be added.\n",
            "    If ``x1.shape != x2.shape``, they must be broadcastable to a common\n",
            "    shape (which becomes the shape of the output).\n",
            "out : ndarray, None, or tuple of ndarray and None, optional\n",
            "    A location into which the result is stored. If provided, it must have\n",
            "    a shape that the inputs broadcast to. If not provided or None,\n",
            "    a freshly-allocated array is returned. A tuple (possible only as a\n",
            "    keyword argument) must have length equal to the number of outputs.\n",
            "where : array_like, optional\n",
            "    This condition is broadcast over the input. At locations where the\n",
            "    condition is True, the `out` array will be set to the ufunc result.\n",
            "    Elsewhere, the `out` array will retain its original value.\n",
            "    Note that if an uninitialized `out` array is created via the default\n",
            "    ``out=None``, locations within it where the condition is False will\n",
            "    remain uninitialized.\n",
            "**kwargs\n",
            "    For other keyword-only arguments, see the\n",
            "    :ref:`ufunc docs <ufuncs.kwargs>`.\n",
            "\n",
            "Returns\n",
            "-------\n",
            "add : ndarray or scalar\n",
            "    The sum of `x1` and `x2`, element-wise.\n",
            "    This is a scalar if both `x1` and `x2` are scalars.\n",
            "\n",
            "Notes\n",
            "-----\n",
            "Equivalent to `x1` + `x2` in terms of array broadcasting.\n",
            "\n",
            "Examples\n",
            "--------\n",
            ">>> np.add(1.0, 4.0)\n",
            "5.0\n",
            ">>> x1 = np.arange(9.0).reshape((3, 3))\n",
            ">>> x2 = np.arange(3.0)\n",
            ">>> np.add(x1, x2)\n",
            "array([[  0.,   2.,   4.],\n",
            "       [  3.,   5.,   7.],\n",
            "       [  6.,   8.,  10.]])\n",
            "\n",
            "The ``+`` operator can be used as a shorthand for ``np.add`` on ndarrays.\n",
            "\n",
            ">>> x1 = np.arange(9.0).reshape((3, 3))\n",
            ">>> x2 = np.arange(3.0)\n",
            ">>> x1 + x2\n",
            "array([[ 0.,  2.,  4.],\n",
            "       [ 3.,  5.,  7.],\n",
            "       [ 6.,  8., 10.]])\n",
            "----------------------------------------------------------------------------\n",
            "\n",
            "     *** Repeat reference found in numpy.core._multiarray_umath *** \n",
            "\n",
            "     *** Repeat reference found in numpy.core.multiarray *** \n",
            "\n",
            "     *** Repeat reference found in numpy.core.umath *** \n",
            "\n",
            "     *** Repeat reference found in numpy.core.numeric *** \n",
            "\n",
            "     *** Repeat reference found in numpy.linalg.linalg *** \n",
            "\n",
            "     *** Repeat reference found in numpy.lib.function_base *** \n",
            "\n",
            "     *** Repeat reference found in numpy.ma.core *** \n",
            "\n",
            "     *** Repeat reference found in numpy.ma.extras *** \n",
            "     *** Found in operator ***\n",
            "Same as a + b.\n",
            "----------------------------------------------------------------------------\n",
            "\n",
            "     *** Total of 13 references found. ***\n"
          ]
        }
      ]
    },
    {
      "cell_type": "markdown",
      "id": "0b16cd77",
      "metadata": {
        "id": "0b16cd77"
      },
      "source": [
        "#### 6. Shunday vekor yaratingki u o'n ikki o'lchamda va qiymatlari noldan iborat bo'lsin, lekin vektorning oltinchi qiymati 1 ga teng bo'lsin.\n",
        "\n"
      ]
    },
    {
      "cell_type": "markdown",
      "source": [
        "`💡Ishora` array[12]"
      ],
      "metadata": {
        "id": "05223560"
      },
      "id": "05223560"
    },
    {
      "cell_type": "code",
      "source": [
        "arr = np.zeros(12)\n",
        "arr[5] = 1\n",
        "arr"
      ],
      "metadata": {
        "id": "UJfYDNQoJc7M",
        "colab": {
          "base_uri": "https://localhost:8080/"
        },
        "outputId": "b7b4e93b-c809-43f9-af17-cc117ceda77f"
      },
      "id": "UJfYDNQoJc7M",
      "execution_count": 90,
      "outputs": [
        {
          "output_type": "execute_result",
          "data": {
            "text/plain": [
              "array([0., 0., 0., 0., 0., 1., 0., 0., 0., 0., 0., 0.])"
            ]
          },
          "metadata": {},
          "execution_count": 90
        }
      ]
    },
    {
      "cell_type": "markdown",
      "id": "782d4c77",
      "metadata": {
        "id": "782d4c77"
      },
      "source": [
        "#### 7. Qiymatlari 20 dan 59 gacha bo'lgan vektor yarating.\n",
        "\n"
      ]
    },
    {
      "cell_type": "markdown",
      "source": [
        "`💡Ishora` arange"
      ],
      "metadata": {
        "id": "7250d114"
      },
      "id": "7250d114"
    },
    {
      "cell_type": "code",
      "source": [
        "arr = np.arange(20, 60)\n",
        "arr"
      ],
      "metadata": {
        "id": "fSaWkGakJhwz",
        "colab": {
          "base_uri": "https://localhost:8080/"
        },
        "outputId": "b2fe17a5-b2f1-4eae-e1bc-cd767ef668b7"
      },
      "id": "fSaWkGakJhwz",
      "execution_count": 7,
      "outputs": [
        {
          "output_type": "execute_result",
          "data": {
            "text/plain": [
              "array([20, 21, 22, 23, 24, 25, 26, 27, 28, 29, 30, 31, 32, 33, 34, 35, 36,\n",
              "       37, 38, 39, 40, 41, 42, 43, 44, 45, 46, 47, 48, 49, 50, 51, 52, 53,\n",
              "       54, 55, 56, 57, 58, 59])"
            ]
          },
          "metadata": {},
          "execution_count": 7
        }
      ]
    },
    {
      "cell_type": "markdown",
      "id": "48d48f01",
      "metadata": {
        "id": "48d48f01"
      },
      "source": [
        "#### 8. Vektor yarating va uni teskari o'zgartiring\n",
        "(birinchi element oxirgisi bo'lsin)\n",
        "\n"
      ]
    },
    {
      "cell_type": "markdown",
      "source": [
        "`💡Ishora` array[::-1]"
      ],
      "metadata": {
        "id": "fb702ae0"
      },
      "id": "fb702ae0"
    },
    {
      "cell_type": "code",
      "source": [
        "arr = np.arange(10)\n",
        "reversed_arr = arr[::-1]\n",
        "reversed_arr"
      ],
      "metadata": {
        "id": "GCP6vp_WJrON",
        "colab": {
          "base_uri": "https://localhost:8080/"
        },
        "outputId": "81ebc19c-ad31-41d5-aaf3-3c24c4ac205a"
      },
      "id": "GCP6vp_WJrON",
      "execution_count": 8,
      "outputs": [
        {
          "output_type": "execute_result",
          "data": {
            "text/plain": [
              "array([9, 8, 7, 6, 5, 4, 3, 2, 1, 0])"
            ]
          },
          "metadata": {},
          "execution_count": 8
        }
      ]
    },
    {
      "cell_type": "markdown",
      "id": "4fa39382",
      "metadata": {
        "id": "4fa39382"
      },
      "source": [
        "#### 9. 12 dan 20 gacha bo'lgan qiymatlarga ega 3x3 matritsa yarating.\n"
      ]
    },
    {
      "cell_type": "markdown",
      "source": [
        "`💡Ishora` reshape"
      ],
      "metadata": {
        "id": "97e6be92"
      },
      "id": "97e6be92"
    },
    {
      "cell_type": "code",
      "source": [
        "arr3x3 = np.arange(12, 21).reshape(3, 3)\n",
        "arr3x3"
      ],
      "metadata": {
        "id": "Ve7gEGjuJxxw",
        "colab": {
          "base_uri": "https://localhost:8080/"
        },
        "outputId": "959da1f5-5ea9-41af-a84f-c1edc698794b"
      },
      "id": "Ve7gEGjuJxxw",
      "execution_count": 9,
      "outputs": [
        {
          "output_type": "execute_result",
          "data": {
            "text/plain": [
              "array([[12, 13, 14],\n",
              "       [15, 16, 17],\n",
              "       [18, 19, 20]])"
            ]
          },
          "metadata": {},
          "execution_count": 9
        }
      ]
    },
    {
      "cell_type": "markdown",
      "id": "da64551a",
      "metadata": {
        "id": "da64551a"
      },
      "source": [
        "#### 10. Quyidagi matritsadan foydalanib nolga teng bo'lmagan elementlarning indekslarini toping.\n",
        "[3, 7, 0, 0, 9, 0]\n",
        "\n",
        "\n",
        "\n"
      ]
    },
    {
      "cell_type": "markdown",
      "source": [
        "`💡Ishora` np.nonzero"
      ],
      "metadata": {
        "id": "322b2b68"
      },
      "id": "322b2b68"
    },
    {
      "cell_type": "code",
      "source": [
        "arr = np.array([3, 7, 0, 0, 9, 0])\n",
        "np.nonzero(arr)"
      ],
      "metadata": {
        "id": "fNIuSyBaJ4OP",
        "colab": {
          "base_uri": "https://localhost:8080/"
        },
        "outputId": "9572136e-a61e-4458-fa56-f1dc52844448"
      },
      "id": "fNIuSyBaJ4OP",
      "execution_count": 10,
      "outputs": [
        {
          "output_type": "execute_result",
          "data": {
            "text/plain": [
              "(array([0, 1, 4]),)"
            ]
          },
          "metadata": {},
          "execution_count": 10
        }
      ]
    },
    {
      "cell_type": "markdown",
      "id": "f89d9c9e",
      "metadata": {
        "id": "f89d9c9e"
      },
      "source": [
        "#### 11. Tasodifiy qiymatlar bilan 2x2x2 o'lchovidagi massiv yarating.\n"
      ]
    },
    {
      "cell_type": "markdown",
      "source": [
        "`💡Ishora` np.random.random"
      ],
      "metadata": {
        "id": "5717e1c1"
      },
      "id": "5717e1c1"
    },
    {
      "cell_type": "code",
      "source": [
        "rand_array = np.random.randn(2,2,2)\n",
        "rand_array"
      ],
      "metadata": {
        "id": "bHloeqHOKuiX",
        "colab": {
          "base_uri": "https://localhost:8080/"
        },
        "outputId": "016ec9c1-bc2e-4418-a8c5-db2a9364f8ba"
      },
      "id": "bHloeqHOKuiX",
      "execution_count": 11,
      "outputs": [
        {
          "output_type": "execute_result",
          "data": {
            "text/plain": [
              "array([[[-0.51058115, -1.47389644],\n",
              "        [-1.24285973,  1.12390309]],\n",
              "\n",
              "       [[ 0.08036412,  2.03346774],\n",
              "        [ 1.34636497, -2.59828788]]])"
            ]
          },
          "metadata": {},
          "execution_count": 11
        }
      ]
    },
    {
      "cell_type": "markdown",
      "id": "13c5928c",
      "metadata": {
        "id": "13c5928c"
      },
      "source": [
        "#### 12. Tasodifiy sonlardan tashkil topgan 9X9 o'lchamidagi massiv yarating. So'ng uning eng katta va eng kichik qiymatlarini toping\n"
      ]
    },
    {
      "cell_type": "markdown",
      "source": [
        "`💡Ishora` min, max"
      ],
      "metadata": {
        "id": "0ede4d26"
      },
      "id": "0ede4d26"
    },
    {
      "cell_type": "code",
      "source": [
        "rand_array = np.random.randn(9,9)\n",
        "print(\n",
        "    rand_array,\n",
        "    rand_array.min(),\n",
        "    rand_array.max(),\n",
        "    sep='\\n\\n'\n",
        ")"
      ],
      "metadata": {
        "id": "OJiVa5K9LJyb",
        "colab": {
          "base_uri": "https://localhost:8080/"
        },
        "outputId": "5bf39352-a7dd-4ab5-d1a2-7a374684ae69"
      },
      "id": "OJiVa5K9LJyb",
      "execution_count": 13,
      "outputs": [
        {
          "output_type": "stream",
          "name": "stdout",
          "text": [
            "[[-0.26867261  0.61439481 -0.29656794  0.08742509  1.24202483 -0.93717501\n",
            "   0.11650216  0.28374362  1.56656087]\n",
            " [-0.60339227  2.40269597  0.22101345 -1.21137366  0.85515437 -0.11979469\n",
            "   0.89555553  0.08244022  0.19140441]\n",
            " [-0.76674495  0.19030054  1.05844529 -0.79668245 -0.15464253 -0.59851796\n",
            "   1.42647746 -0.42651159 -0.53288461]\n",
            " [-0.13137559  0.83696977  1.08751162 -0.53224902 -0.81388213 -0.59545859\n",
            "   0.23931212  1.69347156 -0.44563337]\n",
            " [-0.28110541 -0.73769826 -0.99018381  0.3168099  -0.69656576 -0.22256716\n",
            "   1.90683808 -0.58571567  0.15585519]\n",
            " [-2.36509548  0.34000895  1.01095994  0.70258623 -1.83633568  0.28570868\n",
            "   1.30200964 -1.23253065  0.44410175]\n",
            " [ 0.05432032  1.39213174 -0.60665529  0.89053552 -0.52459341 -1.07361279\n",
            "  -0.22717235  0.65311597  0.44830768]\n",
            " [-1.75110954 -0.75791366 -0.27030682  1.01661328  1.92634216 -1.18821532\n",
            "  -0.99382428 -0.63282564 -0.80332942]\n",
            " [-1.01326003 -1.47382083 -1.1020193   0.25162389  1.37380273  0.86261341\n",
            "  -1.99960449 -0.12287016 -0.59705158]]\n",
            "\n",
            "-2.3650954756989546\n",
            "\n",
            "2.40269597005255\n"
          ]
        }
      ]
    },
    {
      "cell_type": "markdown",
      "id": "3fa2e461",
      "metadata": {
        "id": "3fa2e461"
      },
      "source": [
        "#### 13. Quyidagi misol qanday natija beradi?\n",
        "\n",
        "\n",
        "```python\n",
        "0 * np.nan\n",
        "np.nan == np.nan\n",
        "np.inf > np.nan\n",
        "np.nan - np.nan\n",
        "np.nan in set([np.nan])\n",
        "0.7 == 7 * 0.1\n",
        "```\n"
      ]
    },
    {
      "cell_type": "markdown",
      "source": [
        "`💡Ishora` NaN = not a number, inf = infinity"
      ],
      "metadata": {
        "id": "c0048e59"
      },
      "id": "c0048e59"
    },
    {
      "cell_type": "code",
      "source": [
        "0 * np.nan\n",
        "np.nan == np.nan\n",
        "np.inf > np.nan\n",
        "np.nan - np.nan\n",
        "np.nan in set([np.nan])\n",
        "0.7 == 7 * 0.1"
      ],
      "metadata": {
        "id": "Thbqd_RCLf_e",
        "colab": {
          "base_uri": "https://localhost:8080/"
        },
        "outputId": "67432d2f-7824-44ef-ebd0-e9b00b68f0d7"
      },
      "id": "Thbqd_RCLf_e",
      "execution_count": 14,
      "outputs": [
        {
          "output_type": "execute_result",
          "data": {
            "text/plain": [
              "False"
            ]
          },
          "metadata": {},
          "execution_count": 14
        }
      ]
    },
    {
      "cell_type": "markdown",
      "id": "73f7a549",
      "metadata": {
        "id": "73f7a549"
      },
      "source": [
        "#### 14. O'lchamlari 6x3 va 3x4 bo'lgan martitsa yarating, so'ng ularning  ko'paytmasini hisoblang.\n",
        "\n"
      ]
    },
    {
      "cell_type": "markdown",
      "source": [
        "`💡Ishora` np.dot` or `np.ones"
      ],
      "metadata": {
        "id": "351ff928"
      },
      "id": "351ff928"
    },
    {
      "cell_type": "code",
      "source": [
        "a = np.random.randn(6,3)\n",
        "b = np.random.randn(3,4)\n",
        "# np.dot(a, b)\n",
        "# a @ b\n",
        "a.dot(b)"
      ],
      "metadata": {
        "id": "e_5QUFcPLtVX",
        "colab": {
          "base_uri": "https://localhost:8080/"
        },
        "outputId": "11ce1d2e-dd40-4766-fab9-ac80eb9a2407"
      },
      "id": "e_5QUFcPLtVX",
      "execution_count": 17,
      "outputs": [
        {
          "output_type": "execute_result",
          "data": {
            "text/plain": [
              "array([[-0.59758415,  3.03308934,  1.26966136,  6.02181347],\n",
              "       [ 0.25508199, -0.54199534, -0.47405361, -1.31035172],\n",
              "       [ 0.88163212,  0.76350888, -1.16772587,  0.44309088],\n",
              "       [-0.17267706,  0.39170333,  0.04640307,  0.26563895],\n",
              "       [ 0.2349996 ,  4.53953123, -1.09923963,  4.5524275 ],\n",
              "       [ 1.28987145, -1.17896232, -1.39070257, -1.93818426]])"
            ]
          },
          "metadata": {},
          "execution_count": 17
        }
      ]
    },
    {
      "cell_type": "markdown",
      "id": "6d0c506f",
      "metadata": {
        "id": "6d0c506f"
      },
      "source": [
        "#### 15. Quyidagi misol qanday natija beradi?\n",
        "\n",
        "```python\n",
        "print(sum(range(5),-1))\n",
        "from numpy import *\n",
        "print(sum(range(5),-1))\n",
        "```"
      ]
    },
    {
      "cell_type": "code",
      "execution_count": 18,
      "id": "c1cc1143",
      "metadata": {
        "id": "c1cc1143",
        "colab": {
          "base_uri": "https://localhost:8080/"
        },
        "outputId": "04d42b18-ab03-4bd6-98bb-5a3dd26fc8bd"
      },
      "outputs": [
        {
          "output_type": "stream",
          "name": "stdout",
          "text": [
            "9\n",
            "10\n"
          ]
        }
      ],
      "source": [
        "print(sum(range(5),-1))\n",
        "from numpy import *\n",
        "print(sum(range(5),-1))"
      ]
    },
    {
      "cell_type": "markdown",
      "id": "d6ad1a9f",
      "metadata": {
        "id": "d6ad1a9f"
      },
      "source": [
        "#### 16. NumPy kutubxonasi yordamida ikkita massivni solishtiring va ular usida quyidagi amallarni bajaring.\n",
        "\n",
        "```python\n",
        "Array a: [1 2]\n",
        "Array b: [4 5]\n",
        "a > b\n",
        "[False False]\n",
        "a >= b\n",
        "[False False]\n",
        "a < b\n",
        "[ True True]\n",
        "a <= b\n",
        "[ True True]\n",
        "```"
      ]
    },
    {
      "cell_type": "code",
      "execution_count": 19,
      "id": "7ba3c441",
      "metadata": {
        "id": "7ba3c441",
        "colab": {
          "base_uri": "https://localhost:8080/"
        },
        "outputId": "dd28a262-80f4-467c-8929-0bdc216264c0"
      },
      "outputs": [
        {
          "output_type": "stream",
          "name": "stdout",
          "text": [
            "[False False]\n",
            "[False False]\n",
            "[ True  True]\n",
            "[ True  True]\n"
          ]
        }
      ],
      "source": [
        "a = np.array([1,2])\n",
        "b = np.array([4,5])\n",
        "print(\n",
        "    a > b,\n",
        "    a >= b,\n",
        "    a < b,\n",
        "    a <= b,\n",
        "    sep='\\n'\n",
        ")"
      ]
    },
    {
      "cell_type": "markdown",
      "id": "e3a7ba7f",
      "metadata": {
        "id": "e3a7ba7f"
      },
      "source": [
        "#### 17. Quyidagi misol qanday natija beradi?\n",
        "\n",
        "```python\n",
        "np.array(0) / np.array(0)\n",
        "np.array(0) // np.array(0)\n",
        "np.array([np.nan]).astype(int).astype(float)\n",
        "```"
      ]
    },
    {
      "cell_type": "code",
      "execution_count": 20,
      "id": "b874734e",
      "metadata": {
        "id": "b874734e",
        "colab": {
          "base_uri": "https://localhost:8080/"
        },
        "outputId": "498b73e3-85d7-47e1-9fe6-677a1b5b8f3f"
      },
      "outputs": [
        {
          "output_type": "stream",
          "name": "stderr",
          "text": [
            "<ipython-input-20-cd809174da5d>:1: RuntimeWarning: invalid value encountered in divide\n",
            "  np.array(0) / np.array(0)\n",
            "<ipython-input-20-cd809174da5d>:2: RuntimeWarning: divide by zero encountered in floor_divide\n",
            "  np.array(0) // np.array(0)\n"
          ]
        },
        {
          "output_type": "execute_result",
          "data": {
            "text/plain": [
              "array([-9.22337204e+18])"
            ]
          },
          "metadata": {},
          "execution_count": 20
        }
      ],
      "source": [
        "np.array(0) / np.array(0)\n",
        "np.array(0) // np.array(0)\n",
        "np.array([np.nan]).astype(int).astype(float)"
      ]
    },
    {
      "cell_type": "markdown",
      "id": "6d17ab5d",
      "metadata": {
        "id": "6d17ab5d"
      },
      "source": [
        "#### 18. Ikkita massiv yarating va ular orasidagi umumiy qiymatlarni toping\n"
      ]
    },
    {
      "cell_type": "markdown",
      "source": [
        "`💡Ishora` np.intersect1d"
      ],
      "metadata": {
        "id": "4c4e2c5e"
      },
      "id": "4c4e2c5e"
    },
    {
      "cell_type": "code",
      "source": [
        "a = np.arange(2, 20, 3)\n",
        "b = np.arange(3, 20, 2)\n",
        "np.intersect1d(a, b)"
      ],
      "metadata": {
        "id": "Dxz5P8WpMeAP",
        "colab": {
          "base_uri": "https://localhost:8080/"
        },
        "outputId": "8623cc27-ea57-4db9-c431-2fefd95574c9"
      },
      "id": "Dxz5P8WpMeAP",
      "execution_count": 21,
      "outputs": [
        {
          "output_type": "execute_result",
          "data": {
            "text/plain": [
              "array([ 5, 11, 17])"
            ]
          },
          "metadata": {},
          "execution_count": 21
        }
      ]
    },
    {
      "cell_type": "markdown",
      "id": "8837119b",
      "metadata": {
        "id": "8837119b"
      },
      "source": [
        "#### 19. Tasodifiy sonlardan iborat bo'lgan massiv yarating, so'ng ularni quyida berilgan 4 xil usul yordamida musbat sonlarning butun qismini ajratib oling."
      ]
    },
    {
      "cell_type": "markdown",
      "source": [
        "`💡Ishora` %, np.floor, astype, np.trunc"
      ],
      "metadata": {
        "id": "2b05c544"
      },
      "id": "2b05c544"
    },
    {
      "cell_type": "code",
      "source": [
        "a = np.random.randn(10)\n",
        "print(\n",
        "    a - (a % 1), # array elementlaridan kasr qismini ayirib tashlash\n",
        "    np.floor(a), # bu method katta tarafdan butunga yaxlitlaydi\n",
        "    a.astype(int), # bu method int tipiga konvertatsiya qiladi\n",
        "    np.trunc(a), # bu method butun qismini olib kasr qismini tashlab yuboradi\n",
        "    sep='\\n'\n",
        ")"
      ],
      "metadata": {
        "id": "jc6wN5WWMpS3",
        "colab": {
          "base_uri": "https://localhost:8080/"
        },
        "outputId": "0d0a5997-fc49-45f8-e061-bfe6914e3017"
      },
      "id": "jc6wN5WWMpS3",
      "execution_count": 29,
      "outputs": [
        {
          "output_type": "stream",
          "name": "stdout",
          "text": [
            "[-1.  0.  0.  0. -1.  0. -1.  0.  1. -1.]\n",
            "[-1.  0.  0.  0. -1.  0. -1.  0.  1. -1.]\n",
            "[0 0 0 0 0 0 0 0 1 0]\n",
            "[-0.  0.  0.  0. -0.  0. -0.  0.  1. -0.]\n"
          ]
        }
      ]
    },
    {
      "cell_type": "markdown",
      "id": "ec788c9f",
      "metadata": {
        "id": "ec788c9f"
      },
      "source": [
        "#### 20. O'lchovlari 3x3 matritsa yarating, ularning qator qiymatlari 0 dan 2 gacha bo'lsin.\n",
        "\n"
      ]
    },
    {
      "cell_type": "markdown",
      "source": [
        "`💡Ishora` np.arange"
      ],
      "metadata": {
        "id": "c3980b2c"
      },
      "id": "c3980b2c"
    },
    {
      "cell_type": "code",
      "source": [
        "matritsa = np.random.randint(0, 3, size=(3, 3))\n",
        "matritsa"
      ],
      "metadata": {
        "id": "ycz3jw4bM0Xk",
        "colab": {
          "base_uri": "https://localhost:8080/"
        },
        "outputId": "451b0195-1742-4271-8cb0-ae3e9f7598dd"
      },
      "id": "ycz3jw4bM0Xk",
      "execution_count": 30,
      "outputs": [
        {
          "output_type": "execute_result",
          "data": {
            "text/plain": [
              "array([[1, 2, 0],\n",
              "       [2, 1, 2],\n",
              "       [2, 1, 2]])"
            ]
          },
          "metadata": {},
          "execution_count": 30
        }
      ]
    },
    {
      "cell_type": "markdown",
      "id": "391791e0",
      "metadata": {
        "id": "391791e0"
      },
      "source": [
        "#### 21. O'chamlari 10 bo'lgan tasodifiy vektor yarating va uni o'sish tartibida chiqaruvchi dastur tuzing.\n",
        "\n"
      ]
    },
    {
      "cell_type": "markdown",
      "source": [
        "`💡Ishora` sort"
      ],
      "metadata": {
        "id": "ada71c06"
      },
      "id": "ada71c06"
    },
    {
      "cell_type": "code",
      "source": [
        "vektor = np.random.randn(10)\n",
        "# np.sort(vektor)\n",
        "vektor.sort()\n",
        "vektor"
      ],
      "metadata": {
        "id": "TPMqaavROM7g",
        "colab": {
          "base_uri": "https://localhost:8080/"
        },
        "outputId": "7ea9d7ab-750b-4809-f6a6-79a5bed9a194"
      },
      "id": "TPMqaavROM7g",
      "execution_count": 35,
      "outputs": [
        {
          "output_type": "execute_result",
          "data": {
            "text/plain": [
              "array([-1.91935548, -1.71236482, -1.076116  , -0.90060746, -0.86603957,\n",
              "        0.06810991,  0.12279803,  0.3123445 ,  0.58560223,  1.07658164])"
            ]
          },
          "metadata": {},
          "execution_count": 35
        }
      ]
    },
    {
      "cell_type": "markdown",
      "id": "1e74d39e",
      "metadata": {
        "id": "1e74d39e"
      },
      "source": [
        "#### 22. Ikki tasodifiy A va B massiv yarating, ularning tengligini tekshiring"
      ]
    },
    {
      "cell_type": "markdown",
      "source": [
        "`💡Ishora` np.allclose, np.array_equal"
      ],
      "metadata": {
        "id": "eb0e066c"
      },
      "id": "eb0e066c"
    },
    {
      "cell_type": "code",
      "source": [
        "A = np.random.randn(10)\n",
        "B = np.random.random(10)\n",
        "# np.allclose(A, B)\n",
        "np.array_equal(A, B)"
      ],
      "metadata": {
        "id": "xHNWNZnwOT1r",
        "colab": {
          "base_uri": "https://localhost:8080/"
        },
        "outputId": "1f8265cb-b020-4a57-de31-5f51e157e739"
      },
      "id": "xHNWNZnwOT1r",
      "execution_count": 37,
      "outputs": [
        {
          "output_type": "execute_result",
          "data": {
            "text/plain": [
              "False"
            ]
          },
          "metadata": {},
          "execution_count": 37
        }
      ]
    },
    {
      "cell_type": "markdown",
      "id": "78250c14",
      "metadata": {
        "id": "78250c14"
      },
      "source": [
        "#### 23. O'lchamlari 6x3 va 3x4 matritsa tuzing va ularni o'zaro ko'paytiring.\n"
      ]
    },
    {
      "cell_type": "markdown",
      "source": [
        "`💡Ishora` np.dot or np.ones"
      ],
      "metadata": {
        "id": "2e482afe"
      },
      "id": "2e482afe"
    },
    {
      "cell_type": "code",
      "source": [
        "a = np.random.randn(6, 3)\n",
        "b = np.random.randn(3, 4)\n",
        "# np.dot(a, b)\n",
        "# a @ b\n",
        "a.dot(b)"
      ],
      "metadata": {
        "id": "ZRlMgdT9POgS",
        "colab": {
          "base_uri": "https://localhost:8080/"
        },
        "outputId": "dd594312-60d0-41b4-9a95-60036fb59cd6"
      },
      "id": "ZRlMgdT9POgS",
      "execution_count": 41,
      "outputs": [
        {
          "output_type": "execute_result",
          "data": {
            "text/plain": [
              "array([[ 1.11472952,  0.9357128 ,  0.76448831,  0.81114258],\n",
              "       [-1.83902486,  0.61783052,  3.91898934, -2.30819625],\n",
              "       [-1.01159415, -2.02215276, -0.49827121, -1.81118009],\n",
              "       [-0.01028286,  2.32635022,  0.81143488,  1.48933301],\n",
              "       [ 0.9563119 , -1.4058851 , -2.53269963,  0.56604848],\n",
              "       [-0.8335899 ,  1.31433151, -0.10747547,  0.81330483]])"
            ]
          },
          "metadata": {},
          "execution_count": 41
        }
      ]
    },
    {
      "cell_type": "markdown",
      "id": "51898680",
      "metadata": {
        "id": "51898680"
      },
      "source": [
        "#### 24. Tasodifiy sonlardan iborat bo'lgan o'lchami 5 ga teng vektor yarating, so'ng uning eng katta qiymatini 0 ga o'zgartiring.\n"
      ]
    },
    {
      "cell_type": "markdown",
      "source": [
        "`💡Ishora` argmax"
      ],
      "metadata": {
        "id": "ee92ccaf"
      },
      "id": "ee92ccaf"
    },
    {
      "cell_type": "code",
      "source": [
        "vektor = np.random.random(5)\n",
        "print(vektor)\n",
        "# vektor[vektor == vektor.max()] = 0\n",
        "vektor[vektor.argmax()] = 0\n",
        "vektor"
      ],
      "metadata": {
        "id": "v9DvyaTNPk_t",
        "colab": {
          "base_uri": "https://localhost:8080/"
        },
        "outputId": "ef9bb8b8-2efd-457e-d816-616282d4e88f"
      },
      "id": "v9DvyaTNPk_t",
      "execution_count": 44,
      "outputs": [
        {
          "output_type": "stream",
          "name": "stdout",
          "text": [
            "[0.40226709 0.26389343 0.64750065 0.65655833 0.54448931]\n"
          ]
        },
        {
          "output_type": "execute_result",
          "data": {
            "text/plain": [
              "array([0.40226709, 0.26389343, 0.64750065, 0.        , 0.54448931])"
            ]
          },
          "metadata": {},
          "execution_count": 44
        }
      ]
    },
    {
      "cell_type": "markdown",
      "id": "129c342d",
      "metadata": {
        "id": "129c342d"
      },
      "source": [
        "#### 25. NumPy kutubxonasi yordamida kecha, bugun va ertangi kun sanalarini aniqlang.\n"
      ]
    },
    {
      "cell_type": "markdown",
      "source": [
        "`💡Ishora` np.datetime64, np.timedelta64"
      ],
      "metadata": {
        "id": "0fd2f947"
      },
      "id": "0fd2f947"
    },
    {
      "cell_type": "code",
      "source": [
        "today = np.datetime64('today')\n",
        "yesterday = today - np.timedelta64(1, 'D')\n",
        "tomorrow = today + np.timedelta64(1, 'D')\n",
        "print(\n",
        "    f\"\"\"\n",
        "    yesterday:{yesterday};\n",
        "    today:{today};\n",
        "    tomorrow:{tomorrow}\n",
        "    \"\"\"\n",
        ")"
      ],
      "metadata": {
        "id": "dlljRGxkSitd",
        "colab": {
          "base_uri": "https://localhost:8080/"
        },
        "outputId": "267216c9-b170-45ab-ce35-61df0d2c7f88"
      },
      "id": "dlljRGxkSitd",
      "execution_count": 49,
      "outputs": [
        {
          "output_type": "stream",
          "name": "stdout",
          "text": [
            "\n",
            "    yesterday:2023-11-11;\n",
            "    today:2023-11-12;\n",
            "    tomorrow:2023-11-13    \n",
            "    \n"
          ]
        }
      ]
    },
    {
      "cell_type": "markdown",
      "id": "42f8b2f9",
      "metadata": {
        "id": "42f8b2f9"
      },
      "source": [
        "#### 26. 2016 yil yanvar oyiga to'g'ri keladigan barcha sanalarni NumPy kutubxonasi yordamida aniqlang.\n"
      ]
    },
    {
      "cell_type": "markdown",
      "source": [
        "`💡Ishora` np.arange(dtype=datetime64['D'])"
      ],
      "metadata": {
        "id": "SU1BWcA8Sw2M"
      },
      "id": "SU1BWcA8Sw2M"
    },
    {
      "cell_type": "code",
      "execution_count": 51,
      "id": "5ad086b0",
      "metadata": {
        "id": "5ad086b0",
        "colab": {
          "base_uri": "https://localhost:8080/"
        },
        "outputId": "6c583cfa-f264-4ce3-9955-14afa0bb0add"
      },
      "outputs": [
        {
          "output_type": "execute_result",
          "data": {
            "text/plain": [
              "array(['2016-01-01', '2016-01-02', '2016-01-03', '2016-01-04',\n",
              "       '2016-01-05', '2016-01-06', '2016-01-07', '2016-01-08',\n",
              "       '2016-01-09', '2016-01-10', '2016-01-11', '2016-01-12',\n",
              "       '2016-01-13', '2016-01-14', '2016-01-15', '2016-01-16',\n",
              "       '2016-01-17', '2016-01-18', '2016-01-19', '2016-01-20',\n",
              "       '2016-01-21', '2016-01-22', '2016-01-23', '2016-01-24',\n",
              "       '2016-01-25', '2016-01-26', '2016-01-27', '2016-01-28',\n",
              "       '2016-01-29', '2016-01-30', '2016-01-31'], dtype='datetime64[D]')"
            ]
          },
          "metadata": {},
          "execution_count": 51
        }
      ],
      "source": [
        "january1 = np.datetime64('2016-01-01')\n",
        "january31 = np.datetime64('2016-01-31') + np.timedelta64(1, 'D')\n",
        "calendar = np.arange(january1, january31, dtype='datetime64[D]')\n",
        "calendar"
      ]
    },
    {
      "cell_type": "markdown",
      "id": "486df8ea",
      "metadata": {
        "id": "486df8ea"
      },
      "source": [
        "#### 27. 4 xil usul yordamida musbat sonlarning tasodifiy massivining butun son qismini ajratib oling.\n"
      ]
    },
    {
      "cell_type": "markdown",
      "source": [
        "`💡Ishora` %, np.floor, astype, np.trunc`"
      ],
      "metadata": {
        "id": "h4QM3bp9TDhb"
      },
      "id": "h4QM3bp9TDhb"
    },
    {
      "cell_type": "code",
      "source": [
        "# Bu savol yuqorida takrorlangan\n",
        "a = np.random.randn(10)\n",
        "print(\n",
        "    a - (a % 1), # array elementlaridan kasr qismini ayirib tashlash\n",
        "    np.floor(a), # bu method katta tarafdan butunga yaxlitlaydi\n",
        "    a.astype(int), # bu method int tipiga konvertatsiya qiladi\n",
        "    np.trunc(a), # bu method butun qismini olib kasr qismini tashlab yuboradi\n",
        "    sep='\\n'\n",
        ")"
      ],
      "metadata": {
        "colab": {
          "base_uri": "https://localhost:8080/"
        },
        "id": "8T8drKeOICfn",
        "outputId": "c91c9ab7-ca6d-4044-80c6-de901a9f1674"
      },
      "id": "8T8drKeOICfn",
      "execution_count": 52,
      "outputs": [
        {
          "output_type": "stream",
          "name": "stdout",
          "text": [
            "[ 0. -1.  1.  0. -1.  0. -1. -1.  0.  1.]\n",
            "[ 0. -1.  1.  0. -1.  0. -1. -1.  0.  1.]\n",
            "[0 0 1 0 0 0 0 0 0 1]\n",
            "[ 0. -0.  1.  0. -0.  0. -0. -0.  0.  1.]\n"
          ]
        }
      ]
    },
    {
      "cell_type": "markdown",
      "id": "6415f02e",
      "metadata": {
        "id": "6415f02e"
      },
      "source": [
        "#### 28. Ixtiyoriy kichik massivlar yarating, ular yeg'indisini np.sum funksiyasidanda tezroq hisoblovchi dastur tuzing.\n"
      ]
    },
    {
      "cell_type": "markdown",
      "source": [
        "`💡Ishora` np.add.reduce"
      ],
      "metadata": {
        "id": "129e785f"
      },
      "id": "129e785f"
    },
    {
      "cell_type": "code",
      "source": [
        "massiv = np.arange(1, 10)\n",
        "np.add.reduce(massiv)"
      ],
      "metadata": {
        "id": "M0Xv2bB9VYQZ",
        "colab": {
          "base_uri": "https://localhost:8080/"
        },
        "outputId": "700f02dc-166f-4322-cf1f-6bb1a4a7dbc4"
      },
      "id": "M0Xv2bB9VYQZ",
      "execution_count": 53,
      "outputs": [
        {
          "output_type": "execute_result",
          "data": {
            "text/plain": [
              "45"
            ]
          },
          "metadata": {},
          "execution_count": 53
        }
      ]
    },
    {
      "cell_type": "markdown",
      "id": "58be9dd4",
      "metadata": {
        "id": "58be9dd4"
      },
      "source": [
        "#### 29. [1, 2, 3, 4, 5] vektor berilgan, har bir qiymat orasiga ketma-ket 3 ta nol raqamini yozuvchi dastur tuzing.\n"
      ]
    },
    {
      "cell_type": "markdown",
      "source": [
        "`💡Ishora` array[::4]"
      ],
      "metadata": {
        "id": "9cf9e134"
      },
      "id": "9cf9e134"
    },
    {
      "cell_type": "code",
      "source": [
        "array = np.array( [1, 2, 3, 4, 5] )\n",
        "zeros = np.zeros(len(array)*4, dtype=int) # arraydan 4 marta katta boshqa zeros array\n",
        "zeros[::4] = array # elementlar orasiga birinchi array elementlarini joylash\n",
        "zeros"
      ],
      "metadata": {
        "id": "04IuJ2jaZeYu",
        "colab": {
          "base_uri": "https://localhost:8080/"
        },
        "outputId": "152d2c81-c968-4d15-f702-c6db56faafa9"
      },
      "id": "04IuJ2jaZeYu",
      "execution_count": 55,
      "outputs": [
        {
          "output_type": "execute_result",
          "data": {
            "text/plain": [
              "array([1, 0, 0, 0, 2, 0, 0, 0, 3, 0, 0, 0, 4, 0, 0, 0, 5, 0, 0, 0])"
            ]
          },
          "metadata": {},
          "execution_count": 55
        }
      ]
    },
    {
      "cell_type": "markdown",
      "id": "781fa236",
      "metadata": {
        "id": "781fa236"
      },
      "source": [
        "#### 30. Quyidagi a massiv berilgan, a = [1,2,3,4,5,6,7,8,9,10,11,12,13,14] undan foydalangan holda siz quyidagi b massivni yarata olasizmi, b = [[1,2,3,4], [2,3,4,5], [3,4,5,6], ..., [11,12,13,14]]?\n"
      ]
    },
    {
      "cell_type": "markdown",
      "source": [
        "`💡Ishora` stride_tricks.as_strided"
      ],
      "metadata": {
        "id": "82e3d17e"
      },
      "id": "82e3d17e"
    },
    {
      "cell_type": "code",
      "source": [
        "from numpy.lib.stride_tricks import as_strided\n",
        "a = [1,2,3,4,5,6,7,8,9,10,11,12,13,14]\n",
        "array = np.array(a)\n",
        "strides = array.strides[0]\n",
        "\n",
        "new = as_strided(array, shape=(len(array)-3, 4), strides=(strides, strides))\n",
        "new"
      ],
      "metadata": {
        "id": "S1H6ivCua3NZ",
        "colab": {
          "base_uri": "https://localhost:8080/"
        },
        "outputId": "2bd9c445-04ad-46b1-ae97-570d10dfdca0"
      },
      "id": "S1H6ivCua3NZ",
      "execution_count": 58,
      "outputs": [
        {
          "output_type": "execute_result",
          "data": {
            "text/plain": [
              "array([[ 1,  2,  3,  4],\n",
              "       [ 2,  3,  4,  5],\n",
              "       [ 3,  4,  5,  6],\n",
              "       [ 4,  5,  6,  7],\n",
              "       [ 5,  6,  7,  8],\n",
              "       [ 6,  7,  8,  9],\n",
              "       [ 7,  8,  9, 10],\n",
              "       [ 8,  9, 10, 11],\n",
              "       [ 9, 10, 11, 12],\n",
              "       [10, 11, 12, 13],\n",
              "       [11, 12, 13, 14]])"
            ]
          },
          "metadata": {},
          "execution_count": 58
        }
      ]
    },
    {
      "cell_type": "markdown",
      "id": "7d8dc135",
      "metadata": {
        "id": "7d8dc135"
      },
      "source": [
        "#### 31. Ixtiyoriy sonlardan tashkil topgan massiv yarating, unga o'xshash qiymatlar kiriting. So'ng, o'xshash qiymatlarni topuvchi dastur tuzing.\n"
      ]
    },
    {
      "cell_type": "markdown",
      "source": [
        "`💡Ishora` np.bincount, argmax"
      ],
      "metadata": {
        "id": "81844e99"
      },
      "id": "81844e99"
    },
    {
      "cell_type": "code",
      "source": [
        "array = np.random.randint(0, 5, size=(10))\n",
        "takrorlangan = np.bincount(array)\n",
        "takrorlangan = takrorlangan[takrorlangan > 1]\n",
        "takrorlangan"
      ],
      "metadata": {
        "id": "SiRaNwxjbaQN",
        "colab": {
          "base_uri": "https://localhost:8080/"
        },
        "outputId": "8237f624-060e-440f-a6fe-c7cc49ec8d2b"
      },
      "id": "SiRaNwxjbaQN",
      "execution_count": 84,
      "outputs": [
        {
          "output_type": "execute_result",
          "data": {
            "text/plain": [
              "array([2, 2, 4])"
            ]
          },
          "metadata": {},
          "execution_count": 84
        }
      ]
    },
    {
      "cell_type": "markdown",
      "source": [
        "#### BONUS!\n",
        "\n",
        "`💡O'zingiz javob berishni istagan savolni kiriting va unga javob bering!`"
      ],
      "metadata": {
        "id": "URzxwwODb0m_"
      },
      "id": "URzxwwODb0m_"
    },
    {
      "cell_type": "markdown",
      "source": [],
      "metadata": {
        "id": "Bw1F_W3sTk7t"
      },
      "id": "Bw1F_W3sTk7t"
    },
    {
      "cell_type": "markdown",
      "source": [
        "**Numpy** yordamida shu yil joriy sana kuni va o'zingizni tug'ilgan kuningizni oling, keyin ikki sana orasidagi farqni toping."
      ],
      "metadata": {
        "id": "D4RFjwiuU7L7"
      },
      "id": "D4RFjwiuU7L7"
    },
    {
      "cell_type": "code",
      "source": [
        "current_date = np.datetime64('today')\n",
        "\n",
        "birthday = np.datetime64('2003-01-18')\n",
        "difference = current_date - birthday\n",
        "\n",
        "print(\"Joriy Sana:\", current_date)\n",
        "print(\"Tug'ilgan Kunim:\", birthday)\n",
        "print(\"Sana Orasidagi Farq:\", difference)\n"
      ],
      "metadata": {
        "id": "9xpR0GVrbzuk",
        "colab": {
          "base_uri": "https://localhost:8080/"
        },
        "outputId": "fb66fbae-5f8a-4b8e-ae8f-97bbf5b23ca4"
      },
      "id": "9xpR0GVrbzuk",
      "execution_count": 89,
      "outputs": [
        {
          "output_type": "stream",
          "name": "stdout",
          "text": [
            "Joriy Sana: 2023-11-12\n",
            "Tug'ilgan Kunim: 2003-01-18\n",
            "Sana Orasidagi Farq: 7603 days\n"
          ]
        }
      ]
    }
  ],
  "metadata": {
    "hide_input": false,
    "kernelspec": {
      "display_name": "Python 3",
      "language": "python",
      "name": "python3"
    },
    "language_info": {
      "codemirror_mode": {
        "name": "ipython",
        "version": 3
      },
      "file_extension": ".py",
      "mimetype": "text/x-python",
      "name": "python",
      "nbconvert_exporter": "python",
      "pygments_lexer": "ipython3",
      "version": "3.8.8"
    },
    "toc": {
      "base_numbering": 1,
      "nav_menu": {},
      "number_sections": true,
      "sideBar": true,
      "skip_h1_title": false,
      "title_cell": "Table of Contents",
      "title_sidebar": "Contents",
      "toc_cell": false,
      "toc_position": {},
      "toc_section_display": true,
      "toc_window_display": false
    },
    "varInspector": {
      "cols": {
        "lenName": 16,
        "lenType": 16,
        "lenVar": 40
      },
      "kernels_config": {
        "python": {
          "delete_cmd_postfix": "",
          "delete_cmd_prefix": "del ",
          "library": "var_list.py",
          "varRefreshCmd": "print(var_dic_list())"
        },
        "r": {
          "delete_cmd_postfix": ") ",
          "delete_cmd_prefix": "rm(",
          "library": "var_list.r",
          "varRefreshCmd": "cat(var_dic_list()) "
        }
      },
      "types_to_exclude": [
        "module",
        "function",
        "builtin_function_or_method",
        "instance",
        "_Feature"
      ],
      "window_display": false
    },
    "colab": {
      "provenance": [],
      "toc_visible": true,
      "include_colab_link": true
    }
  },
  "nbformat": 4,
  "nbformat_minor": 5
}